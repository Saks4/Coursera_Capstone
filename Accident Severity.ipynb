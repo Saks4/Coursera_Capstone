{
    "cells": [
        {
            "cell_type": "markdown",
            "metadata": {
                "collapsed": true
            },
            "source": "# Capstone Project"
        },
        {
            "cell_type": "markdown",
            "metadata": {},
            "source": "## Introduction\n\n\n### Description\nMachine Learning is now being used in many fields for solving several problems and have benefited the data scientists in several fields in terms of accuracy, cost, and time. In this aspect, we are using machine learning to predict the severity of car accidents on the basis of the type of accident."
        },
        {
            "cell_type": "markdown",
            "metadata": {},
            "source": "### Data \n\nThe data we have on hand is quite extensive, providing us with relevant attributes such as the location and time of the accident, as well as the consequent weather and lighting conditions when the event occurred. There are also details indicating how many pedestrians were involved, or if one or more cars that were affected were parked or not.\n\n### Data benefits:\nBy looking at variables such as :\n\n<li> road condition </li>\n<li>light condition</li>\n<li>weather</li>\n<li>speed</li>\n<li>lane</li>\nwe can build a model to see if the variables above mentioned will affect severity of traffic accident.\n\nSubsequently, we will do data cleaning, feature selection and data normalization before we actually apply machine learning algorithms.\n\nFor Data cleaning:\n\n\n<li>INCKEY, INTKEY, and COLDETKEY- It is unnecessary information</li>\n<li>REPORTNO, EXCEPTTRSNCODE, EXCEPTRSNDESC- Without any description, the data is useless</li>\n<li>Have to remove the nan or null values</li>\n<li>Have to remove the blank or 0's variables</li>\n\nThis model can classify the severity of the accident which would provide the driver with the 'worst-case scenario', rather than a probabilistic estimate of an accident occuring. This will help in inducing an appropriate level of cautiousness in the driver!\n\nFeatures used are speeding and road condition for this model."
        },
        {
            "cell_type": "markdown",
            "metadata": {},
            "source": "## Data Cleaning"
        },
        {
            "cell_type": "code",
            "execution_count": 1,
            "metadata": {},
            "outputs": [
                {
                    "name": "stdout",
                    "output_type": "stream",
                    "text": "Done\n"
                }
            ],
            "source": "import pandas as pd\nimport numpy as np\nimport seaborn as sns\n\nfrom sklearn.model_selection import train_test_split\nfrom sklearn.neighbors import KNeighborsClassifier\nfrom sklearn.metrics import classification_report\nfrom sklearn.tree import DecisionTreeClassifier\nfrom sklearn import svm\nfrom sklearn.metrics import f1_score\nfrom sklearn.metrics import accuracy_score\nfrom sklearn import preprocessing\nfrom sklearn.linear_model import LogisticRegression\n\nprint(\"Done\")"
        },
        {
            "cell_type": "code",
            "execution_count": 2,
            "metadata": {},
            "outputs": [
                {
                    "name": "stdout",
                    "output_type": "stream",
                    "text": "--2020-09-07 14:29:40--  https://s3.us.cloud-object-storage.appdomain.cloud/cf-courses-data/CognitiveClass/DP0701EN/version-2/Data-Collisions.csv\nResolving s3.us.cloud-object-storage.appdomain.cloud (s3.us.cloud-object-storage.appdomain.cloud)... 67.228.254.196\nConnecting to s3.us.cloud-object-storage.appdomain.cloud (s3.us.cloud-object-storage.appdomain.cloud)|67.228.254.196|:443... connected.\nHTTP request sent, awaiting response... 200 OK\nLength: 73917638 (70M) [text/csv]\nSaving to: \u2018Data-Collisions.csv\u2019\n\n100%[======================================>] 73,917,638  35.0MB/s   in 2.0s   \n\n2020-09-07 14:29:43 (35.0 MB/s) - \u2018Data-Collisions.csv\u2019 saved [73917638/73917638]\n\n"
                }
            ],
            "source": "!wget -O Data-Collisions.csv https://s3.us.cloud-object-storage.appdomain.cloud/cf-courses-data/CognitiveClass/DP0701EN/version-2/Data-Collisions.csv"
        },
        {
            "cell_type": "code",
            "execution_count": 4,
            "metadata": {},
            "outputs": [
                {
                    "name": "stdout",
                    "output_type": "stream",
                    "text": "[nan 'Y']\n['Wet' 'Dry' nan 'Unknown' 'Snow/Slush' 'Ice' 'Other' 'Sand/Mud/Dirt'\n 'Standing Water' 'Oil']\n"
                },
                {
                    "data": {
                        "text/html": "<div>\n<style scoped>\n    .dataframe tbody tr th:only-of-type {\n        vertical-align: middle;\n    }\n\n    .dataframe tbody tr th {\n        vertical-align: top;\n    }\n\n    .dataframe thead th {\n        text-align: right;\n    }\n</style>\n<table border=\"1\" class=\"dataframe\">\n  <thead>\n    <tr style=\"text-align: right;\">\n      <th></th>\n      <th>SEVERITYCODE</th>\n      <th>SPEEDING</th>\n      <th>ROADCOND</th>\n    </tr>\n  </thead>\n  <tbody>\n    <tr>\n      <th>0</th>\n      <td>2</td>\n      <td>NaN</td>\n      <td>Wet</td>\n    </tr>\n    <tr>\n      <th>1</th>\n      <td>1</td>\n      <td>NaN</td>\n      <td>Wet</td>\n    </tr>\n    <tr>\n      <th>2</th>\n      <td>1</td>\n      <td>NaN</td>\n      <td>Dry</td>\n    </tr>\n    <tr>\n      <th>3</th>\n      <td>1</td>\n      <td>NaN</td>\n      <td>Dry</td>\n    </tr>\n    <tr>\n      <th>4</th>\n      <td>2</td>\n      <td>NaN</td>\n      <td>Wet</td>\n    </tr>\n  </tbody>\n</table>\n</div>",
                        "text/plain": "   SEVERITYCODE SPEEDING ROADCOND\n0             2      NaN      Wet\n1             1      NaN      Wet\n2             1      NaN      Dry\n3             1      NaN      Dry\n4             2      NaN      Wet"
                    },
                    "execution_count": 4,
                    "metadata": {},
                    "output_type": "execute_result"
                }
            ],
            "source": "df = pd.read_csv(\"Data-Collisions.csv\")\n\nselect = ['SEVERITYCODE', 'SPEEDING','ROADCOND']\ndf = df[select]\n\nfor feature in [\"SPEEDING\", \"ROADCOND\"]:\n    print(df[feature].unique())\ndf.head()"
        },
        {
            "cell_type": "markdown",
            "metadata": {},
            "source": "### Assumptions for missing data"
        },
        {
            "cell_type": "markdown",
            "metadata": {},
            "source": "<li>Speeding is unknown</li>\n<li>The road condition is unknown</li>"
        },
        {
            "cell_type": "code",
            "execution_count": 5,
            "metadata": {},
            "outputs": [
                {
                    "name": "stdout",
                    "output_type": "stream",
                    "text": "['N' 'Y']\n['Wet' 'Dry' 'Unknown' 'Snow/Slush' 'Ice' 'Other' 'Sand/Mud/Dirt'\n 'Standing Water' 'Oil']\n"
                }
            ],
            "source": "df['SPEEDING'] = df['SPEEDING'].fillna('N')\n\ndf['ROADCOND'] = df['ROADCOND'].fillna('Unknown')\n\n\nfor feature in [\"SPEEDING\", \"ROADCOND\"]:\n    print(df[feature].unique())"
        },
        {
            "cell_type": "code",
            "execution_count": 6,
            "metadata": {},
            "outputs": [
                {
                    "data": {
                        "text/plain": "(194673, 3)"
                    },
                    "execution_count": 6,
                    "metadata": {},
                    "output_type": "execute_result"
                }
            ],
            "source": "df.shape"
        },
        {
            "cell_type": "markdown",
            "metadata": {},
            "source": "### Assumptions for data analysis"
        },
        {
            "cell_type": "markdown",
            "metadata": {},
            "source": "We assume that the road conditions have the only options of being dry, wet and other."
        },
        {
            "cell_type": "code",
            "execution_count": 7,
            "metadata": {},
            "outputs": [],
            "source": "df['ROADCOND'].replace(to_replace=['Wet','Dry','Unknown','Snow/Slush','Ice','Other','Sand/Mud/Dirt','Standing Water','Oil'], value = ['Bad','Good','Good','Bad','Bad','Good','Bad','Bad','Bad'], inplace=True)"
        },
        {
            "cell_type": "code",
            "execution_count": 8,
            "metadata": {},
            "outputs": [
                {
                    "data": {
                        "text/html": "<div>\n<style scoped>\n    .dataframe tbody tr th:only-of-type {\n        vertical-align: middle;\n    }\n\n    .dataframe tbody tr th {\n        vertical-align: top;\n    }\n\n    .dataframe thead th {\n        text-align: right;\n    }\n</style>\n<table border=\"1\" class=\"dataframe\">\n  <thead>\n    <tr style=\"text-align: right;\">\n      <th></th>\n      <th>SPEEDING</th>\n      <th>ROADCOND</th>\n    </tr>\n  </thead>\n  <tbody>\n    <tr>\n      <th>0</th>\n      <td>0</td>\n      <td>1</td>\n    </tr>\n    <tr>\n      <th>1</th>\n      <td>0</td>\n      <td>1</td>\n    </tr>\n    <tr>\n      <th>2</th>\n      <td>0</td>\n      <td>0</td>\n    </tr>\n    <tr>\n      <th>3</th>\n      <td>0</td>\n      <td>0</td>\n    </tr>\n    <tr>\n      <th>4</th>\n      <td>0</td>\n      <td>1</td>\n    </tr>\n  </tbody>\n</table>\n</div>",
                        "text/plain": "   SPEEDING  ROADCOND\n0         0         1\n1         0         1\n2         0         0\n3         0         0\n4         0         1"
                    },
                    "execution_count": 8,
                    "metadata": {},
                    "output_type": "execute_result"
                }
            ],
            "source": "df[\"SPEEDING\"].replace(to_replace=['N', 'Y'], value=[0,1], inplace=True)\ndf['ROADCOND'].replace(to_replace=['Good','Bad'],value=[0,1],inplace=True)\ncondition = df[['SPEEDING','ROADCOND']]\ncondition.head()"
        },
        {
            "cell_type": "markdown",
            "metadata": {},
            "source": "## Data Anaysis"
        },
        {
            "cell_type": "markdown",
            "metadata": {},
            "source": "To check whether speed and road conditions are bad"
        },
        {
            "cell_type": "markdown",
            "metadata": {},
            "source": "For seeing the effect of speeding on accidents:"
        },
        {
            "cell_type": "code",
            "execution_count": 9,
            "metadata": {},
            "outputs": [
                {
                    "data": {
                        "text/plain": "SPEEDING  SEVERITYCODE\n0         1               0.705099\n          2               0.294901\n1         1               0.621665\n          2               0.378335\nName: SEVERITYCODE, dtype: float64"
                    },
                    "execution_count": 9,
                    "metadata": {},
                    "output_type": "execute_result"
                }
            ],
            "source": "speed_observation = df.groupby(['SPEEDING'])['SEVERITYCODE'].value_counts(normalize=True)\nspeed_observation"
        },
        {
            "cell_type": "code",
            "execution_count": 10,
            "metadata": {},
            "outputs": [
                {
                    "data": {
                        "text/plain": "ROADCOND  SEVERITYCODE\n0         1               0.710389\n          2               0.289611\n1         1               0.674176\n          2               0.325824\nName: SEVERITYCODE, dtype: float64"
                    },
                    "execution_count": 10,
                    "metadata": {},
                    "output_type": "execute_result"
                }
            ],
            "source": "road_observation = df.groupby(['ROADCOND'])['SEVERITYCODE'].value_counts(normalize=True)\nroad_observation"
        },
        {
            "cell_type": "markdown",
            "metadata": {},
            "source": "This shows that these factors do contribute in the severity of accidents"
        },
        {
            "cell_type": "markdown",
            "metadata": {},
            "source": "## Methodology"
        },
        {
            "cell_type": "markdown",
            "metadata": {},
            "source": "First we train the model:"
        },
        {
            "cell_type": "code",
            "execution_count": 11,
            "metadata": {},
            "outputs": [
                {
                    "name": "stdout",
                    "output_type": "stream",
                    "text": "Training set:  (155738, 2) (155738,)\nTesting set:  (38935, 2) (38935,)\n"
                },
                {
                    "name": "stderr",
                    "output_type": "stream",
                    "text": "/opt/conda/envs/Python36/lib/python3.6/site-packages/sklearn/preprocessing/data.py:645: DataConversionWarning: Data with input dtype int64 were all converted to float64 by StandardScaler.\n  return self.partial_fit(X, y)\n/opt/conda/envs/Python36/lib/python3.6/site-packages/ipykernel/__main__.py:3: DataConversionWarning: Data with input dtype int64 were all converted to float64 by StandardScaler.\n  app.launch_new_instance()\n"
                }
            ],
            "source": "x = condition\ny = df['SEVERITYCODE'].values.astype(str)\nx = preprocessing.StandardScaler().fit(x).transform(x)\nx_train, x_test, y_train, y_test = train_test_split(x, y, test_size=0.2, random_state=1234)\n\n\nprint(\"Training set: \", x_train.shape, y_train.shape)\nprint(\"Testing set: \", x_test.shape, y_test.shape)"
        },
        {
            "cell_type": "markdown",
            "metadata": {},
            "source": "## Method 1"
        },
        {
            "cell_type": "code",
            "execution_count": null,
            "metadata": {},
            "outputs": [],
            "source": "from sklearn import metrics\nKs = 10\nmean_acc = np.zeros((Ks-1))\nstd_acc = np.zeros((Ks-1))\nConfustionMx = [];\nfor n in range(1,Ks):\n    \n    #Train Model and Predict  \n    neigh = KNeighborsClassifier(n_neighbors = n).fit(x_train,y_train)\n    yhat=neigh.predict(x_test)\n    mean_acc[n-1] = metrics.accuracy_score(y_test, yhat)\n\n    \n    std_acc[n-1]=np.std(yhat==y_test)/np.sqrt(yhat.shape[0])\n\nmean_acc"
        },
        {
            "cell_type": "code",
            "execution_count": 12,
            "metadata": {},
            "outputs": [],
            "source": "KNN_model = KNeighborsClassifier(n_neighbors = 4).fit(x_train, y_train)\npredicted = KNN_model.predict(x_test)\nKNN_f1 = f1_score(y_test, predicted, average='weighted')\nKNN_acc = accuracy_score(y_test, predicted)"
        },
        {
            "cell_type": "markdown",
            "metadata": {},
            "source": "## Method 2\n"
        },
        {
            "cell_type": "code",
            "execution_count": 14,
            "metadata": {},
            "outputs": [
                {
                    "name": "stderr",
                    "output_type": "stream",
                    "text": "/opt/conda/envs/Python36/lib/python3.6/site-packages/sklearn/metrics/classification.py:1143: UndefinedMetricWarning: F-score is ill-defined and being set to 0.0 in labels with no predicted samples.\n  'precision', 'predicted', average, warn_for)\n"
                }
            ],
            "source": "Tree_model = DecisionTreeClassifier(criterion=\"entropy\", max_depth = 4)\nTree_model.fit(x_train, y_train)\npredicted = Tree_model.predict(x_test)\nTree_f1 = f1_score(y_test, predicted, average='weighted')\nTree_acc = accuracy_score(y_test, predicted)"
        },
        {
            "cell_type": "markdown",
            "metadata": {},
            "source": "## Method 3"
        },
        {
            "cell_type": "code",
            "execution_count": 15,
            "metadata": {},
            "outputs": [
                {
                    "name": "stderr",
                    "output_type": "stream",
                    "text": "/opt/conda/envs/Python36/lib/python3.6/site-packages/sklearn/metrics/classification.py:1143: UndefinedMetricWarning: F-score is ill-defined and being set to 0.0 in labels with no predicted samples.\n  'precision', 'predicted', average, warn_for)\n"
                }
            ],
            "source": "LR_model = LogisticRegression(C=0.01, solver='liblinear').fit(x_train, y_train)\npredicted = LR_model.predict(x_test)\n\nLR_f1 = f1_score(y_test, predicted, average='weighted')\nLR_acc = accuracy_score(y_test, predicted)"
        },
        {
            "cell_type": "markdown",
            "metadata": {},
            "source": "## Results"
        },
        {
            "cell_type": "code",
            "execution_count": 16,
            "metadata": {},
            "outputs": [
                {
                    "data": {
                        "text/html": "<div>\n<style scoped>\n    .dataframe tbody tr th:only-of-type {\n        vertical-align: middle;\n    }\n\n    .dataframe tbody tr th {\n        vertical-align: top;\n    }\n\n    .dataframe thead th {\n        text-align: right;\n    }\n</style>\n<table border=\"1\" class=\"dataframe\">\n  <thead>\n    <tr style=\"text-align: right;\">\n      <th></th>\n      <th>Algorithm</th>\n      <th>F1-score</th>\n      <th>Accuracy</th>\n    </tr>\n  </thead>\n  <tbody>\n    <tr>\n      <th>0</th>\n      <td>KNN</td>\n      <td>0.591378</td>\n      <td>0.696751</td>\n    </tr>\n    <tr>\n      <th>1</th>\n      <td>Decision Tree</td>\n      <td>0.576051</td>\n      <td>0.699679</td>\n    </tr>\n    <tr>\n      <th>2</th>\n      <td>LogisticRegression</td>\n      <td>0.576051</td>\n      <td>0.699679</td>\n    </tr>\n  </tbody>\n</table>\n</div>",
                        "text/plain": "            Algorithm  F1-score  Accuracy\n0                 KNN  0.591378  0.696751\n1       Decision Tree  0.576051  0.699679\n2  LogisticRegression  0.576051  0.699679"
                    },
                    "execution_count": 16,
                    "metadata": {},
                    "output_type": "execute_result"
                }
            ],
            "source": "table = {\n    \"Algorithm\": [\"KNN\", \"Decision Tree\", \"LogisticRegression\"],\n    \"F1-score\": [KNN_f1, Tree_f1, LR_f1],\n    \"Accuracy\": [KNN_acc, Tree_acc, LR_acc]\n}\n\ntable = pd.DataFrame(table)\ntable"
        },
        {
            "cell_type": "code",
            "execution_count": 17,
            "metadata": {},
            "outputs": [
                {
                    "data": {
                        "text/html": "<div>\n<style scoped>\n    .dataframe tbody tr th:only-of-type {\n        vertical-align: middle;\n    }\n\n    .dataframe tbody tr th {\n        vertical-align: top;\n    }\n\n    .dataframe thead th {\n        text-align: right;\n    }\n</style>\n<table border=\"1\" class=\"dataframe\">\n  <thead>\n    <tr style=\"text-align: right;\">\n      <th></th>\n      <th>Intercept</th>\n      <th>Coef:SPEEDING</th>\n      <th>Coef:ROADCOND</th>\n    </tr>\n  </thead>\n  <tbody>\n    <tr>\n      <th>0</th>\n      <td>-0.853729</td>\n      <td>0.067702</td>\n      <td>0.068295</td>\n    </tr>\n  </tbody>\n</table>\n</div>",
                        "text/plain": "   Intercept  Coef:SPEEDING   Coef:ROADCOND \n0  -0.853729        0.067702        0.068295"
                    },
                    "execution_count": 17,
                    "metadata": {},
                    "output_type": "execute_result"
                }
            ],
            "source": "table = {\n    \"Intercept\": LR_model.intercept_,\n    \"Coef:SPEEDING \": LR_model.coef_[:,0],\n    \"Coef:ROADCOND \": LR_model.coef_[:,1],\n}\n\ntable = pd.DataFrame(table)\ntable"
        },
        {
            "cell_type": "markdown",
            "metadata": {},
            "source": "We see that the coeffecients are positive indicating that the two factors (speeding and road conditions) do affect the severity of and contribute in the increased chance of an accident\n\n## Conclusion\n\nThis model here provides sufficient evidence against speeding and road conditions"
        },
        {
            "cell_type": "code",
            "execution_count": null,
            "metadata": {},
            "outputs": [],
            "source": ""
        }
    ],
    "metadata": {
        "kernelspec": {
            "display_name": "Python 3.6",
            "language": "python",
            "name": "python3"
        },
        "language_info": {
            "codemirror_mode": {
                "name": "ipython",
                "version": 3
            },
            "file_extension": ".py",
            "mimetype": "text/x-python",
            "name": "python",
            "nbconvert_exporter": "python",
            "pygments_lexer": "ipython3",
            "version": "3.6.9"
        }
    },
    "nbformat": 4,
    "nbformat_minor": 1
}