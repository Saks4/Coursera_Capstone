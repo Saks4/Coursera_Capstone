{
    "cells": [
        {
            "cell_type": "markdown",
            "metadata": {},
            "source": "# Car Accident Severity"
        },
        {
            "cell_type": "markdown",
            "metadata": {
                "collapsed": true
            },
            "source": "## Introduction"
        },
        {
            "cell_type": "markdown",
            "metadata": {},
            "source": "### Description"
        },
        {
            "cell_type": "markdown",
            "metadata": {},
            "source": "Machine Learning is now being used in many fields for solving several problems and have benefited the data scientists in several fields in terms of accuracy, cost, and time.\nIn this aspect, we are using machine learning to predict the severity of car accidents on the basis of the type of accident."
        },
        {
            "cell_type": "markdown",
            "metadata": {},
            "source": "### Background\n"
        },
        {
            "cell_type": "markdown",
            "metadata": {},
            "source": "We collect data related to each traffic accident and accordingly we will divide the dataset into numerical and catergorical subset for a more organized analysis. We hope that through analyzing traffic accident events carefully, we can know what factors affect the severity the most. Also, we can estimate if we would be under risky traffic condition in the future."
        },
        {
            "cell_type": "markdown",
            "metadata": {},
            "source": "### Dataset"
        },
        {
            "cell_type": "markdown",
            "metadata": {},
            "source": "The dataset has 38 columns and 194674 rows. This dataset includes traffic accidents with several useful features recorded such as weather, road condition and so on. We will first divide the dataset into numerical and categorical subsets. Subsequently, we will do data cleaning, feature selection and data normalization before we actually apply machine learning algorithms.\n\nFor Data cleaning: <br> <br>\n\n<li>INCKEY, INTKEY, and COLDETKEY- It is unnecessary information</li>\n<li>REPORTNO, EXCEPTTRSNCODE, EXCEPTRSNDESC- Without any description, the data is useless</li>\n<li>Have to remove the nan or null values</li>\n<li>Have to remove the blank or 0's variables</li>\n\nFor data normalization:\n\nSome of the numerical attributes are:\n\n<li>Person involved (PERSONCOUNT)</li>\n<li>Pedestrian involved (PEDCOUNT)</li>\n<li>Bicycles involved (PEDCYCLOUNT)</li>\n<li>Vehicles involved (VEHCOUNT)</li>\n\nSome of the categorical attributes are: \n\n<li>Address type (ADDRTYPE)</li>\n<li>Collision type (COLLISIONTYPE)</li>\n<li>Junction Type (JUNCTIONTYPE)</li>\n<li>Inattention to the road (INATTENTIONIND)</li>\n<li>Drugs or alcohol (UNDERINFL)</li>\n<li>Weather condition (WEATHER)</li>\n<li>Road Condition (ROADCOND)</li>\n<li>Light Condition (LIGHTCOND)</li>\n<li>Whether hitting parked car (HITPARKEDCAR)</li>\n\n\n\n"
        },
        {
            "cell_type": "markdown",
            "metadata": {},
            "source": "## Target Audience"
        },
        {
            "cell_type": "markdown",
            "metadata": {},
            "source": "This analysis is for all those who care about traffic safety as well as machine learning enthuasists who are looking to work on real life and practical applications. This analysis would be done in a simple manner using basic commands and hence can be followed and used as a guidance for those looking to learn machine learning for data science.  By applying classification machine learning algorithm with well-defined features and analysis, it is expected that we can have a fine model for the prediction."
        },
        {
            "cell_type": "code",
            "execution_count": null,
            "metadata": {},
            "outputs": [],
            "source": ""
        }
    ],
    "metadata": {
        "kernelspec": {
            "display_name": "Python 3.6",
            "language": "python",
            "name": "python3"
        },
        "language_info": {
            "codemirror_mode": {
                "name": "ipython",
                "version": 3
            },
            "file_extension": ".py",
            "mimetype": "text/x-python",
            "name": "python",
            "nbconvert_exporter": "python",
            "pygments_lexer": "ipython3",
            "version": "3.6.9"
        }
    },
    "nbformat": 4,
    "nbformat_minor": 1
}